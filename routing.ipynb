{
 "cells": [
  {
   "cell_type": "code",
   "execution_count": 16,
   "metadata": {},
   "outputs": [],
   "source": [
    "from simulator import NetworkSimulator\n",
    "from packetrouter import QPacketRouter, RIPPacketRouter\n",
    "from matplotlib import pyplot as plt"
   ]
  },
  {
   "cell_type": "code",
   "execution_count": 17,
   "metadata": {},
   "outputs": [],
   "source": [
    "NUM_NODES = 25\n",
    "NUM_PACKETS = 2000000"
   ]
  },
  {
   "cell_type": "code",
   "execution_count": 18,
   "metadata": {},
   "outputs": [],
   "source": [
    "def get_averages(total_times, kernel_size):\n",
    "    return [sum(total_times[i*kernel_size:(i+1)*kernel_size])/kernel_size for i in range(int(len(total_times) / kernel_size))]"
   ]
  },
  {
   "cell_type": "code",
   "execution_count": 19,
   "metadata": {},
   "outputs": [
    {
     "name": "stdout",
     "output_type": "stream",
     "text": [
      "RIP routing: \n",
      " avg path length:       3.344413\n",
      " avg transmission time: 381.552246\n",
      " dropped packets:       10891 / 2000000\n",
      "Q-Routing:\n",
      " avg path length:       4.372659\n",
      " avg transmission time: 355.559658\n",
      " dropped packets:       15477 / 2000000\n"
     ]
    }
   ],
   "source": [
    "n_s = NetworkSimulator(NUM_NODES)\n",
    "q_packet_router = QPacketRouter(n_s)\n",
    "rip_packet_router = RIPPacketRouter(n_s)\n",
    "\n",
    "test_packets = n_s.generate_packets(NUM_PACKETS)\n",
    "kernel_size = 10000\n",
    "\n",
    "print(\"RIP routing: \")\n",
    "n_s.simulate_network_load(test_packets, rip_packet_router, verbose=True)\n",
    "\n",
    "total_times = [packet.totalTime for packet in test_packets]\n",
    "rip_average_times = get_averages(total_times, kernel_size)\n",
    "\n",
    "for packet in test_packets: packet.reset()\n",
    "\n",
    "print(\"Q-Routing:\")\n",
    "n_s.simulate_network_load(test_packets, q_packet_router, verbose=True)\n",
    "\n",
    "total_times = [packet.totalTime for packet in test_packets]\n",
    "q_average_times = get_averages(total_times, kernel_size)"
   ]
  },
  {
   "cell_type": "code",
   "execution_count": 20,
   "metadata": {},
   "outputs": [
    {
     "data": {
      "image/png": "[encoded data removed]",
      "text/plain": [
       "<Figure size 432x288 with 1 Axes>"
      ]
     },
     "metadata": {},
     "output_type": "display_data"
    }
   ],
   "source": [
    "fig = plt.figure()\n",
    "ax1 = fig.add_subplot(111)\n",
    "ax1.scatter(range(len(q_average_times)), rip_average_times, label=\"rip\")\n",
    "ax1.scatter(range(len(q_average_times)), q_average_times, label=\"q-routing\")\n",
    "plt.legend(loc='upper left')\n",
    "plt.ylabel(\"transmission time (ms)\")\n",
    "plt.xlabel(\"iteration (100 packets)\")\n",
    "plt.savefig('random-vs-qrouting.png', dpi=300)"
   ]
  },
  {
   "cell_type": "code",
   "execution_count": null,
   "metadata": {},
   "outputs": [],
   "source": []
  }
 ],
 "metadata": {
  "kernelspec": {
   "display_name": "Python 3",
   "language": "python",
   "name": "python3"
  },
  "language_info": {
   "codemirror_mode": {
    "name": "ipython",
    "version": 3
   },
   "file_extension": ".py",
   "mimetype": "text/x-python",
   "name": "python",
   "nbconvert_exporter": "python",
   "pygments_lexer": "ipython3",
   "version": "3.6.6"
  }
 },
 "nbformat": 4,
 "nbformat_minor": 1
}
